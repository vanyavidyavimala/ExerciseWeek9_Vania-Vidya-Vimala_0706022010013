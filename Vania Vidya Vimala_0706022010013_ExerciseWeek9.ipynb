{
 "cells": [
  {
   "cell_type": "code",
   "execution_count": null,
   "id": "d00e7f03",
   "metadata": {},
   "outputs": [],
   "source": [
    "# Arti Association Rules \n",
    "\n",
    "Association Rules adalah suatu metode data mining yang bertujuan untuk mencari sekumpulan items yang sering muncul bersamaan.\n",
    "Association rule mining adalah salah satu metode data mining yang dapat mengidentifikasi hubungan kesamaan antar item. \n",
    "Dalam metode ini dibutuhkan algoritma untuk mencari kandidat aturan asosiasi. Salah satu algoritma yang biasa dipakai adalah algoritma apriori."
   ]
  },
  {
   "cell_type": "code",
   "execution_count": null,
   "id": "07b889ee",
   "metadata": {},
   "outputs": [],
   "source": [
    "# Algoritma dalam Association rule\n",
    "\n",
    "Algoritma Single Dimensional terdiri dari Algoritma sekuensial, Algoritma paralel, dan Paralel lain."
   ]
  },
  {
   "cell_type": "code",
   "execution_count": null,
   "id": "0c457d6c",
   "metadata": {},
   "outputs": [],
   "source": [
    "# Tipe Association rule \n",
    "\n",
    "1. Multi-relational association rules\n",
    "2. Generalized Association rule\n",
    "3. Interval Information Association Rules\n",
    "4. Quantitative Association Rules"
   ]
  },
  {
   "cell_type": "code",
   "execution_count": null,
   "id": "0797a2bb",
   "metadata": {},
   "outputs": [],
   "source": [
    "#Resources\n",
    " -Agusta Y. (2008, Agustus 4). Association Rules. yudiagusta.wordpress.com. https://yudiagusta.wordpress.com/2008/08/04/association-rules/\n",
    " -AnishaD. (2022, August 23). Association Rule. geeksforgeeks.org. https://www.geeksforgeeks.org/association-rule/\n",
    " -"
   ]
  }
 ],
 "metadata": {
  "kernelspec": {
   "display_name": "Python 3",
   "language": "python",
   "name": "python3"
  },
  "language_info": {
   "codemirror_mode": {
    "name": "ipython",
    "version": 3
   },
   "file_extension": ".py",
   "mimetype": "text/x-python",
   "name": "python",
   "nbconvert_exporter": "python",
   "pygments_lexer": "ipython3",
   "version": "3.8.8"
  }
 },
 "nbformat": 4,
 "nbformat_minor": 5
}
