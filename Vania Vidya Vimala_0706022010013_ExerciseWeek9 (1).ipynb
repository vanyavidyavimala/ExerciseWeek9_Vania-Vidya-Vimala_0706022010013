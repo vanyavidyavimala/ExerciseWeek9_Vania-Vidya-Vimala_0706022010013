{
 "cells": [
  {
   "cell_type": "markdown",
   "id": "9946f7cd",
   "metadata": {},
   "source": [
    "# Exercise Week 9 Association Rule Mining\n",
    "Vania Vidya Vimala/0706022010013"
   ]
  },
  {
   "cell_type": "markdown",
   "id": "598e8ad9",
   "metadata": {},
   "source": [
    "## Arti Association Rules "
   ]
  },
  {
   "cell_type": "markdown",
   "id": "548c580a",
   "metadata": {},
   "source": [
    "Association Rules adalah suatu metode data mining yang bertujuan untuk mencari sekumpulan items yang sering muncul bersamaan.\n",
    "Association rule mining adalah salah satu metode data mining yang dapat mengidentifikasi hubungan kesamaan antar item. \n",
    "Dalam metode ini dibutuhkan algoritma untuk mencari kandidat aturan asosiasi. Salah satu algoritma yang biasa dipakai adalah algoritma apriori."
   ]
  },
  {
   "cell_type": "markdown",
   "id": "d2bf761c",
   "metadata": {},
   "source": [
    "## Algoritma Apriori"
   ]
  },
  {
   "cell_type": "markdown",
   "id": "997cf6c9",
   "metadata": {},
   "source": [
    "Algoritma adalah urutan atau langkah-langkah yang logis dan sistematis untuk memecahkan dan menyelesaikan suatu masalah. Algoritma tidak selalu identik dengan ilmu komputer saja, dalam kehidupan sehari-hari pun banyak terdapat proses yang dinyatakan dalam suatu algoritma, dan algoritma pun juga merupakan kumpulan perintah untuk menyelesaikan suatu masalah.\n",
    "\n",
    "Algoritma Apriori, Apriori yaitu termasuk jenis aturan asosiasi atau association rule dalam data mining. Aturan yang menyatakan asosiasi antara beberapa atribut sering disebut affinity analysis atau market basket analysis."
   ]
  },
  {
   "cell_type": "markdown",
   "id": "3c64a106",
   "metadata": {},
   "source": [
    "## Tipe Association rule "
   ]
  },
  {
   "cell_type": "markdown",
   "id": "3e7b94b2",
   "metadata": {},
   "source": [
    "1. Multi-relational association rules\n",
    "2. Generalized Association rule\n",
    "3. Interval Information Association Rules\n",
    "4. Quantitative Association Rules"
   ]
  },
  {
   "cell_type": "markdown",
   "id": "c151fa18",
   "metadata": {},
   "source": [
    "## Contoh Penerapan Association Rule"
   ]
  },
  {
   "cell_type": "markdown",
   "id": "9ed8eb23",
   "metadata": {},
   "source": [
    "Menganalisis transaksi penjualan di suatu toko / warung, disetiap  pembelian yang dilakukan oleh konsumen, akan tercatat ID transaksi dan pada setiap transaksi dan memungkinkan ada satu atau lebih barang (item) yang dibeli, jika ada 100 transaksi setiap harinya, maka sudah ada 3000 transaksi dalam 1 bulan, nah dari transaksi inilah terbentuk pola-pola kombinasi pembelian item barang, seperti misal Konsumen A membeli  { beras, telur dan minyak }, Konsumen B membeli { telur dan minyak }  dan seterusnya.\n",
    "\n",
    "Lalu peran Association Rule pada Algoritma Apriori disini diterapkan untuk membaca pola atau kecendrungan pembelian konsumen dengan melakukan perhitungan dari pembentukan suatu pola asosiasi produk pada data transaksi penjualan,  untuk menampilkan informasi tentang hasil informasi berupa pembentukan suatu pola asosiasi produk yang paling sering dibeli konsumen."
   ]
  },
  {
   "cell_type": "markdown",
   "id": "f0d99450",
   "metadata": {},
   "source": [
    "## Analisis Asosiasi dan Algoritma Apriori"
   ]
  },
  {
   "cell_type": "markdown",
   "id": "d87a82d7",
   "metadata": {},
   "source": [
    "Beberapa istilah yang sering digunakan pada Association Rule adalah:\n",
    "\n",
    "- Support, adalah suatu ukuran yang menunjukkan seberapa besar tingkat dominasi suatu item atau item set dari keseluruhan transaksi.\n",
    "\n",
    "- Confidence, adalah suatu ukuran yang menunjukkan seberapa sering aturan itu terbukti benar. \n",
    "\n",
    "- Lift Ratio, adalah rasio dari nilai pengamatan Support, diharapkan jika dua aturan itu independen"
   ]
  },
  {
   "cell_type": "markdown",
   "id": "3c22323f",
   "metadata": {},
   "source": [
    "## Tahapan Proses Algoritma Apriori"
   ]
  },
  {
   "cell_type": "code",
   "execution_count": 10,
   "id": "6ff60c43",
   "metadata": {},
   "outputs": [
    {
     "name": "stdout",
     "output_type": "stream",
     "text": [
      "Requirement already satisfied: pandas in c:\\users\\user\\anaconda3\\lib\\site-packages (1.2.4)\n",
      "Requirement already satisfied: numpy>=1.16.5 in c:\\users\\user\\anaconda3\\lib\\site-packages (from pandas) (1.20.1)\n",
      "Requirement already satisfied: pytz>=2017.3 in c:\\users\\user\\anaconda3\\lib\\site-packages (from pandas) (2021.1)\n",
      "Requirement already satisfied: python-dateutil>=2.7.3 in c:\\users\\user\\anaconda3\\lib\\site-packages (from pandas) (2.8.1)\n",
      "Requirement already satisfied: six>=1.5 in c:\\users\\user\\anaconda3\\lib\\site-packages (from python-dateutil>=2.7.3->pandas) (1.15.0)\n",
      "Requirement already satisfied: numpy in c:\\users\\user\\anaconda3\\lib\\site-packages (1.20.1)\n",
      "Collecting apyori\n",
      "  Downloading apyori-1.1.2.tar.gz (8.6 kB)\n",
      "Building wheels for collected packages: apyori\n",
      "  Building wheel for apyori (setup.py): started\n",
      "  Building wheel for apyori (setup.py): finished with status 'done'\n",
      "  Created wheel for apyori: filename=apyori-1.1.2-py3-none-any.whl size=5975 sha256=bd3d38568c8914afeef4ebbea94dada9e2eb63b5e9243ead8f5bbe0051e8c2d1\n",
      "  Stored in directory: c:\\users\\user\\appdata\\local\\pip\\cache\\wheels\\1b\\02\\6c\\a45230be8603bd95c0a51cd2b289aefdd860c1a100eab73661\n",
      "Successfully built apyori\n",
      "Installing collected packages: apyori\n",
      "Successfully installed apyori-1.1.2\n"
     ]
    }
   ],
   "source": [
    "# Menginstall Library\n",
    "!pip install pandas\n",
    "!pip install numpy\n",
    "!pip install apyori"
   ]
  },
  {
   "cell_type": "code",
   "execution_count": 11,
   "id": "82ace3a8",
   "metadata": {},
   "outputs": [],
   "source": [
    "# Memanggil library yang dibutuhkan\n",
    "import pandas as pd\n",
    "import numpy as np\n",
    "from apyori import apriori"
   ]
  },
  {
   "cell_type": "code",
   "execution_count": 24,
   "id": "87f4e03d",
   "metadata": {},
   "outputs": [
    {
     "data": {
      "text/html": [
       "<div>\n",
       "<style scoped>\n",
       "    .dataframe tbody tr th:only-of-type {\n",
       "        vertical-align: middle;\n",
       "    }\n",
       "\n",
       "    .dataframe tbody tr th {\n",
       "        vertical-align: top;\n",
       "    }\n",
       "\n",
       "    .dataframe thead th {\n",
       "        text-align: right;\n",
       "    }\n",
       "</style>\n",
       "<table border=\"1\" class=\"dataframe\">\n",
       "  <thead>\n",
       "    <tr style=\"text-align: right;\">\n",
       "      <th></th>\n",
       "      <th>Tanggal</th>\n",
       "      <th>ID Transaksi</th>\n",
       "      <th>Items</th>\n",
       "    </tr>\n",
       "  </thead>\n",
       "  <tbody>\n",
       "    <tr>\n",
       "      <th>0</th>\n",
       "      <td>2021-04-02</td>\n",
       "      <td>PJ0002</td>\n",
       "      <td>Grape Candy Duren Simadu,Filter Regular 50gr</td>\n",
       "    </tr>\n",
       "    <tr>\n",
       "      <th>1</th>\n",
       "      <td>2021-04-09</td>\n",
       "      <td>PJ0003</td>\n",
       "      <td>3P ONAN 50gr Pink,3P ONAN 50gr Hitam,Surya JR ...</td>\n",
       "    </tr>\n",
       "    <tr>\n",
       "      <th>2</th>\n",
       "      <td>2021-04-09</td>\n",
       "      <td>PJ0004</td>\n",
       "      <td>3PUTRI Cap Nona 100gr Pink,3P Cap Nona 100gr P...</td>\n",
       "    </tr>\n",
       "    <tr>\n",
       "      <th>3</th>\n",
       "      <td>2021-04-09</td>\n",
       "      <td>PJ0004</td>\n",
       "      <td>3PUTRI Cap Nona 100gr Pink,3P Cap Nona 100gr P...</td>\n",
       "    </tr>\n",
       "    <tr>\n",
       "      <th>4</th>\n",
       "      <td>2021-04-09</td>\n",
       "      <td>PJ0006</td>\n",
       "      <td>3P ONAN 50gr Pink,3PUTRI Cap Nona 50gr merah,S...</td>\n",
       "    </tr>\n",
       "    <tr>\n",
       "      <th>...</th>\n",
       "      <td>...</td>\n",
       "      <td>...</td>\n",
       "      <td>...</td>\n",
       "    </tr>\n",
       "    <tr>\n",
       "      <th>97</th>\n",
       "      <td>2021-06-06</td>\n",
       "      <td>PJ260099</td>\n",
       "      <td>3PUTRI Cap Nona 120gr Hitam,3P Cap Nona 120gr ...</td>\n",
       "    </tr>\n",
       "    <tr>\n",
       "      <th>98</th>\n",
       "      <td>2021-06-06</td>\n",
       "      <td>PJ3900100</td>\n",
       "      <td>3PUTRI Cap Nona 100gr Pink,3P Cap Nona 100gr Pink</td>\n",
       "    </tr>\n",
       "    <tr>\n",
       "      <th>99</th>\n",
       "      <td>2021-06-07</td>\n",
       "      <td>PJ5200101</td>\n",
       "      <td>3P ONAN 50gr Putih,Marlboro Merah JR Rokok 100...</td>\n",
       "    </tr>\n",
       "    <tr>\n",
       "      <th>100</th>\n",
       "      <td>2021-06-08</td>\n",
       "      <td>PJ5400102</td>\n",
       "      <td>Marlboro Menthol JR Rokok 50gr,Warning 50gr,Bl...</td>\n",
       "    </tr>\n",
       "    <tr>\n",
       "      <th>101</th>\n",
       "      <td>2021-06-09</td>\n",
       "      <td>PJ2700104</td>\n",
       "      <td>3PUTRI Cap Nona 120gr Hitam,3P Cap Nona 120gr ...</td>\n",
       "    </tr>\n",
       "  </tbody>\n",
       "</table>\n",
       "<p>102 rows × 3 columns</p>\n",
       "</div>"
      ],
      "text/plain": [
       "        Tanggal ID Transaksi  \\\n",
       "0    2021-04-02       PJ0002   \n",
       "1    2021-04-09       PJ0003   \n",
       "2    2021-04-09       PJ0004   \n",
       "3    2021-04-09       PJ0004   \n",
       "4    2021-04-09       PJ0006   \n",
       "..          ...          ...   \n",
       "97   2021-06-06     PJ260099   \n",
       "98   2021-06-06    PJ3900100   \n",
       "99   2021-06-07    PJ5200101   \n",
       "100  2021-06-08    PJ5400102   \n",
       "101  2021-06-09    PJ2700104   \n",
       "\n",
       "                                                 Items  \n",
       "0         Grape Candy Duren Simadu,Filter Regular 50gr  \n",
       "1    3P ONAN 50gr Pink,3P ONAN 50gr Hitam,Surya JR ...  \n",
       "2    3PUTRI Cap Nona 100gr Pink,3P Cap Nona 100gr P...  \n",
       "3    3PUTRI Cap Nona 100gr Pink,3P Cap Nona 100gr P...  \n",
       "4    3P ONAN 50gr Pink,3PUTRI Cap Nona 50gr merah,S...  \n",
       "..                                                 ...  \n",
       "97   3PUTRI Cap Nona 120gr Hitam,3P Cap Nona 120gr ...  \n",
       "98   3PUTRI Cap Nona 100gr Pink,3P Cap Nona 100gr Pink  \n",
       "99   3P ONAN 50gr Putih,Marlboro Merah JR Rokok 100...  \n",
       "100  Marlboro Menthol JR Rokok 50gr,Warning 50gr,Bl...  \n",
       "101  3PUTRI Cap Nona 120gr Hitam,3P Cap Nona 120gr ...  \n",
       "\n",
       "[102 rows x 3 columns]"
      ]
     },
     "execution_count": 24,
     "metadata": {},
     "output_type": "execute_result"
    }
   ],
   "source": [
    "# Load data \n",
    "df= 'https://raw.githubusercontent.com/vanyavidyavimala/dataset-apriori/main/dataset_2021-06-10.csv'\n",
    "dt = pd.read_csv(df)\n",
    "dt"
   ]
  },
  {
   "cell_type": "code",
   "execution_count": 26,
   "id": "35398c24",
   "metadata": {},
   "outputs": [],
   "source": [
    "# Membuang kolom Tanggal, ID Transaksi\n",
    "data=dt.drop(['Tanggal','ID Transaksi'],axis=1)"
   ]
  },
  {
   "cell_type": "code",
   "execution_count": 32,
   "id": "d49c83da",
   "metadata": {},
   "outputs": [],
   "source": [
    "# Menggunakan fungsi apriori untuk membuat asosiasi\n",
    "association_rules = apriori(trx, min_support=0.14, min_confidence=0.80,min_lift=1)\n",
    "# Membuat list hasil dari algoritma apriori\n",
    "association_results = association_rules"
   ]
  },
  {
   "cell_type": "code",
   "execution_count": 33,
   "id": "4dfbc54c",
   "metadata": {},
   "outputs": [
    {
     "data": {
      "text/html": [
       "<div>\n",
       "<style scoped>\n",
       "    .dataframe tbody tr th:only-of-type {\n",
       "        vertical-align: middle;\n",
       "    }\n",
       "\n",
       "    .dataframe tbody tr th {\n",
       "        vertical-align: top;\n",
       "    }\n",
       "\n",
       "    .dataframe thead th {\n",
       "        text-align: right;\n",
       "    }\n",
       "</style>\n",
       "<table border=\"1\" class=\"dataframe\">\n",
       "  <thead>\n",
       "    <tr style=\"text-align: right;\">\n",
       "      <th></th>\n",
       "      <th>Rule</th>\n",
       "      <th>Support</th>\n",
       "      <th>Confidence</th>\n",
       "    </tr>\n",
       "  </thead>\n",
       "  <tbody>\n",
       "    <tr>\n",
       "      <th>0</th>\n",
       "      <td>['Alat Linting Kecil Regular'] -&gt; ['Buffalo Baret']</td>\n",
       "      <td>14.71%</td>\n",
       "      <td>83.33%</td>\n",
       "    </tr>\n",
       "    <tr>\n",
       "      <th>1</th>\n",
       "      <td>['Lem V-tro kecil 10gr'] -&gt; ['Buffalo Baret']</td>\n",
       "      <td>21.57%</td>\n",
       "      <td>88.0%</td>\n",
       "    </tr>\n",
       "  </tbody>\n",
       "</table>\n",
       "</div>"
      ],
      "text/plain": [
       "                                                  Rule Support Confidence\n",
       "0  ['Alat Linting Kecil Regular'] -> ['Buffalo Baret']  14.71%     83.33%\n",
       "1        ['Lem V-tro kecil 10gr'] -> ['Buffalo Baret']  21.57%      88.0%"
      ]
     },
     "execution_count": 33,
     "metadata": {},
     "output_type": "execute_result"
    }
   ],
   "source": [
    "# Menampilkan hasil asosiasi dari item \n",
    "pd.set_option('max_colwidth', 1000)\n",
    "Result=pd.DataFrame(columns=['Rule','Support','Confidence'])\n",
    "for item in association_results:\n",
    "    pair = item[2]\n",
    "    for i in pair:\n",
    "        items = str([x for x in i[0]])\n",
    "        if i[3]!=1:\n",
    "            Result=Result.append({\n",
    "                'Rule':str([x for x in i[0]])+ \" -> \" +str([x for x in i[1]]),\n",
    "                'Support':str(round(item[1]*100,2))+'%',\n",
    "                'Confidence':str(round(i[2] *100,2))+'%'\n",
    "                },ignore_index=True)\n",
    "Result"
   ]
  },
  {
   "cell_type": "markdown",
   "id": "d3bf70ba",
   "metadata": {},
   "source": [
    "# Kesimpulan penerapan association rule diatas\n",
    "\n",
    "Jika membeli Alat Linting Kecil Regular maka akan juga membeli Buffalo Baret dengan memiliki confidence atau tingkat kepercayaan sebesar 83.33%.\n",
    "\n",
    "Jika membeli Lem V-tro kecil 10gr maka akan juga membeli Buffalo Baret dengan memiliki confidence atau tingkat kepercayaan sebesar 88.0%."
   ]
  },
  {
   "cell_type": "markdown",
   "id": "41afc87a",
   "metadata": {},
   "source": [
    "# Resources"
   ]
  },
  {
   "cell_type": "markdown",
   "id": "7774ee42",
   "metadata": {},
   "source": [
    "- Agusta Y. (2008, Agustus 4). Association Rules.yudiagusta.wordpress.com.https://yudiagusta.wordpress.com/2008/08/04/association-rules/\n",
    "- Desi U. (2018, Desember 21). Pengertian dan penerapan Metode Association Rules. garudacyber.co.id. https://garudacyber.co.id/artikel/1479-pengertian-dan-penerapan-metode-association-rules\n",
    "- AnishaD. (2022, August 23). Association Rule. geeksforgeeks.org.https://www.geeksforgeeks.org/association-rule/\n",
    "- Miftah S. (2021, Juli 10).Market Basket Analysis Menggunakan Machine Learning Python. dqlab.id.https://www.dqlab.id/market-basket-analysis-menggunakan-machine-learning-python\n",
    "- Falah F. (2022, Juni 11). Penerapan Algoritma Apriori: Contoh dan Implementasi menggunakan python. Codekop.com.https://www.codekop.com/read/penerapan-algoritma-apriori-contoh-dan-implementasi-menggunakan-python-68.html\n",
    "- Alfasaleh. (2019, September 19). Algoritma Apriori : Contoh Sederhana Penerapan Algoritma Apriori pada Association Rule. alfasoleh.com. https://www.alfasoleh.com/2019/09/data-mining-contoh-sederhana-penerapan.html\n",
    "- Atmadjaya L. (2019). ASSOCIATION RULE DAN PENERAPANNYA. slideplayer.info. https://slideplayer.info/slide/16035867/\n",
    "- Kusrini, &. E. (2009). Algoritma Data Mining. Yogyakarta: Andi Offset.\n",
    "- Prasetyo, E. (2014). Data Mining. Yogyakarta: Andi Offset.\n",
    "- Larose, D. T. (2014). Discovering Knowledge in Data: An Introduction to Data Mining Second Edition. New Jersey: John Wiley & Sons Inc"
   ]
  }
 ],
 "metadata": {
  "kernelspec": {
   "display_name": "Python 3",
   "language": "python",
   "name": "python3"
  },
  "language_info": {
   "codemirror_mode": {
    "name": "ipython",
    "version": 3
   },
   "file_extension": ".py",
   "mimetype": "text/x-python",
   "name": "python",
   "nbconvert_exporter": "python",
   "pygments_lexer": "ipython3",
   "version": "3.8.8"
  }
 },
 "nbformat": 4,
 "nbformat_minor": 5
}
